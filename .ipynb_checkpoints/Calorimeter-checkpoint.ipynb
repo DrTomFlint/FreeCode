{
 "cells": [
  {
   "cell_type": "markdown",
   "id": "9cf831cd-333a-4a31-abae-5ce438a784b4",
   "metadata": {},
   "source": [
    "# Calorimeter\n",
    "\n",
    "This project implements a Calorimeter for estimating the losses in a motor drive by measuring the heat given off during operation.\n",
    "\n",
    "Python Python 3.9.2 Flask application with SQLite database and jChart webpage.\n",
    "Raspberry Pi 4, 4 GB, Debian GNU/Linux 11 (bullseye), Kernel: 6.1.21-v8+\n",
    "\n",
    "https://sequentmicrosystems.com/ \n",
    "2x 8-channel RTD Data Acquistion\n",
    "1x 8-channel Mosfet\n",
    "1x Home Automation (8-channel ADC on 0-3.3v, 8 relays, 4 analog out 0-10v, 8 opto-isolated digital in, 4 gpio, and 4 open drain out)\n",
    "16x PT100 RTDs in highest accuracy grade F or T.  3-wire connections to the DAQ.\n",
    "\n",
    "2MTR-DYNO, 1x dyno hardware includes couplings and 2 motors.\n",
    "BOOSTXL-3PHGANINV, 3x GaN inverter boards rated to 60 Vdc.\n",
    "LAUNCHXL-F28379D, 2x Delfino controller cards.\n",
    "\n",
    "The motor is a Teknic M-2310P-LN-04K provided by TI as part of the “2MTR-DYNO” kit.  It is rated 7.1 amps continuous, 6000 rpm, class F, 38.8 oz-in = 0.274 Nm, 4.6 volts/krpm.\n",
    "\n",
    "The encoder mounted on the motor is a Precision Tech PN 755-0021425.\n",
    "\n",
    "AmpCool 110 is Specific heat 2.0232.  Density 0.8113 \n",
    "Tub version 3: 40x90x70 = 252 cc = 204 grams = 414 Joule/C for the coolant.\n",
    "4:47 and 73 grams for Tub3, 1.4 specific heat for PetG, 102.2 Joule/C for the tub\n",
    "515 Joule/C total.\n",
    "\n",
    "For the radiant energy coming off an object, it depends on the difference between the surface temp ^4 and the ambient^4:\n",
    "Watts = sigma * e * A * (T1^4 - T2^4)     T in degrees Kelvin!\n",
    "σ = 5.67 × 10−8 J/s · m2 · K4 is the Stefan-Boltzmann constant, A is the surface area of the object, and T is its absolute temperature in kelvin. The symbol e stands for the emissivity. Kelvin = C + 273.\n",
    "\n",
    "The inner box wants to have low emissivity so that it retains most of the heat inside it.\n",
    "The outer box should probably have a matching emissivity so that at the same T it will radiate the same amount of total energy.  Note that the losses out of the inner box do not depend on the emissivity of the outer box, just the ambient temperature.  \n",
    "\n",
    "McMaster Carr 51545K27 and 51545K79 quick disconnects.\n",
    "Omega PD3000 series FPD3002 positive displacement flow meter.\n",
    "12x, LEM LXSR-15 current sensors for DC and AC.\n",
    "1x,  LEM LXSR-6 current sensor for the calibration heater.\n",
    "\n",
    "Model T8 ECO Rotary Torque Transducer 0.5 Nm Capacity, +/-5VDC Output, 1-meter Integral Cable with No Speed/Angle Option\tModel = T8-0.5-A1A,\t$2260.00,  10,000 rpm, 8 mm diameter shafts.\n",
    "\n",
    "ADI EVAL AD7768FMCZ, 8-channel 24-bit 110.h kHz true simultaneous sampling.\n",
    "DataStormDaq, Arrow, Cyclone V with an FMC connector (deprecated).\n",
    "TUL PYNQ-Z2 (new controller).\n",
    "\n",
    "DC Bus:\n",
    "2x Crouzet SSR SPST-NO 40 amp, 5-55v 84137670N, digikey, for the DC brake circuits.\n",
    "2x Altran Magnetics ASEV30-B DC Contactors, 900 Vdc, 30 Amp, with 12 Vdc coils.\n",
    "2x Makita BL1840 LiPo battery banks with 1 to 3 series connected 18 Vdc packs in stainless steel quick-release fire box.\n",
    "6x Power resistors, 100 watt 3 Ohm, switches select 3, 6, or 9 Ohm series.\n",
    "\n"
   ]
  },
  {
   "cell_type": "code",
   "execution_count": 1,
   "id": "91bc16c2-dca1-4d87-bc44-bc88b8f4513c",
   "metadata": {},
   "outputs": [
    {
     "name": "stdout",
     "output_type": "stream",
     "text": [
      "Hi Tom, looks like your Python is running just fine.\n"
     ]
    }
   ],
   "source": [
    "# Test Python\n",
    "print(\"Hi Tom, looks like your Python is running just fine.\")"
   ]
  }
 ],
 "metadata": {
  "kernelspec": {
   "display_name": "Python 3 (ipykernel)",
   "language": "python",
   "name": "python3"
  },
  "language_info": {
   "codemirror_mode": {
    "name": "ipython",
    "version": 3
   },
   "file_extension": ".py",
   "mimetype": "text/x-python",
   "name": "python",
   "nbconvert_exporter": "python",
   "pygments_lexer": "ipython3",
   "version": "3.10.12"
  }
 },
 "nbformat": 4,
 "nbformat_minor": 5
}
